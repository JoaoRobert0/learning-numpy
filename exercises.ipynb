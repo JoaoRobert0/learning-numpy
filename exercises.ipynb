{
 "cells": [
  {
   "cell_type": "markdown",
   "metadata": {},
   "source": [
    "# NumPy Exercises\n",
    "\n",
    "**1. Array Creation**\n",
    "- Create an array of zeros with size 5.\n",
    "- Create an array of integers from 10 to 20.\n",
    "- Create an array of random integers between 0 and 100 with size (3, 3).\n",
    "\n",
    "**2. Indexing and Slicing**\n",
    "- Given the array `arr = np.array([1, 2, 3, 4, 5])`, access the third element.\n",
    "- Create a 2D array of shape (4, 4) and access the entire second row.\n",
    "- Given an array `arr = np.arange(25).reshape(5, 5)`, extract the subarray containing the first two rows and the first three columns.\n",
    "\n",
    "**3. Mathematical Operations**\n",
    "- Create two arrays of size 5 and perform element-wise addition and multiplication between them.\n",
    "- Multiply all elements of an array by 10.\n",
    "- Create an array of integers and calculate the mean, sum, and maximum value.\n",
    "\n",
    "**4. Reshaping**\n",
    "- Create an array of numbers from 1 to 16 and reshape it into a 4x4 array.\n",
    "- Transpose the previous array (swap rows and columns).\n",
    "- From a 3D array with shape (2, 3, 3), flatten it into a 2D array.\n",
    "\n",
    "**5. Broadcasting**\n",
    "- Create a (3, 3) size integer array and add 10 to each element of the array without using loops.\n",
    "- Multiply a 1D array of size 3 by a 2D array of size (3, 3).\n",
    "\n",
    "**6. Masks and Conditions**\n",
    "- Create a random integer array of size (5, 5) and use a mask to replace all values less than 10 with 0.\n",
    "- Given the array `arr = np.array([10, 5, 8, 12, 6, 2])`, create a mask to select only the values greater than 6.\n",
    "\n",
    "**7. Concatenation and Division**\n",
    "- Create two arrays of shape (2, 3). Concatenate them along axis 0 (rows) and axis 1 (columns).\n",
    "- Divide an array of 10 elements into 2 arrays of equal size.\n",
    "\n",
    "**8. NumPy Specific Functions**\n",
    "- Create an array of integers from 0 to 9 and calculate the sine of each number.\n",
    "- Create an array of values from 1 to 100 and find the indices of the values that are divisible by 5.\n"
   ]
  },
  {
   "cell_type": "code",
   "execution_count": 1,
   "metadata": {},
   "outputs": [
    {
     "name": "stdout",
     "output_type": "stream",
     "text": [
      "[0 0 0 0 0]\n",
      "[10 11 12 13 14 15 16 17 18 19 20]\n",
      "[[40  5 77]\n",
      " [66 18 53]\n",
      " [31 35 31]]\n"
     ]
    }
   ],
   "source": [
    "# Question 1\n",
    "import numpy\n",
    "\n",
    "# - Create an array of zeros with size 5.\n",
    "arr = numpy.zeros(5, dtype=int) # By default the zeros function generate a matrix by float\n",
    "print(arr)\n",
    "\n",
    "# - Create an array of integers from 10 to 20.\n",
    "arr = numpy.arange(10, 21)\n",
    "print(arr)\n",
    "\n",
    "# - Create an array of random integers between 0 and 100 with size (3, 3).\n",
    "arr = numpy.random.randint(0, 101, size=(3, 3))\n",
    "print(arr)\n",
    "\n",
    "# Another way\n",
    "# import random\n",
    "\n",
    "# arr = numpy.zeros([3, 3], dtype=int)\n",
    "# row, col = arr.shape\n",
    "\n",
    "# for i in range(row):\n",
    "#     for j in range(col):\n",
    "#         r = random.randint(0, 100)\n",
    "#         arr[i][j] = r\n",
    "\n",
    "# print(arr)"
   ]
  },
  {
   "cell_type": "code",
   "execution_count": 2,
   "metadata": {},
   "outputs": [
    {
     "name": "stdout",
     "output_type": "stream",
     "text": [
      "3\n",
      "[4 5 6 7]\n",
      "[[0 1 2]\n",
      " [5 6 7]]\n"
     ]
    }
   ],
   "source": [
    "# Question 2\n",
    "\n",
    "# - Given the array `arr = np.array([1, 2, 3, 4, 5])`, access the third element.\n",
    "arr = numpy.array([1, 2, 3, 4, 5])\n",
    "print(arr[2])\n",
    "\n",
    "# - Create a 2D array of shape (4, 4) and access the entire second row.\n",
    "arr = numpy.arange(16).reshape(4, 4)\n",
    "print(arr[1])\n",
    "\n",
    "# - Given an array `arr = np.arange(25).reshape(5, 5)`, extract the subarray containing the first two rows and the first three columns.\n",
    "arr = numpy.arange(25).reshape(5, 5)\n",
    "sub_arr = arr[:2, :3]\n",
    "print(sub_arr)"
   ]
  },
  {
   "cell_type": "code",
   "execution_count": 3,
   "metadata": {},
   "outputs": [
    {
     "name": "stdout",
     "output_type": "stream",
     "text": [
      "The addition equal: [0 2 4 6 8]\n",
      "The multiplication equal: [ 0  1  4  9 16]\n",
      "[[10 20 30]\n",
      " [90 60 20]]\n",
      "4.0\n",
      "36\n",
      "8\n"
     ]
    }
   ],
   "source": [
    "# Question 3\n",
    "\n",
    "# - Create two arrays of size 5 and perform element-wise addition and multiplication between them.\n",
    "arr_1 = numpy.arange(5)\n",
    "arr_2 = numpy.arange(5)\n",
    "print(f\"The addition equal: {arr_1 + arr_2}\")\n",
    "print(f\"The multiplication equal: {arr_1 * arr_2}\")\n",
    "\n",
    "# - Multiply all elements of an array by 10.\n",
    "arr = numpy.array([[1, 2, 3], [9, 6, 2]])\n",
    "print(arr * 10)\n",
    "\n",
    "# - Create an array of integers and calculate the mean, sum, and maximum value.\n",
    "arr = numpy.arange(9)\n",
    "print(numpy.mean(arr))\n",
    "print(arr.sum())\n",
    "print(arr.max())"
   ]
  },
  {
   "cell_type": "code",
   "execution_count": 4,
   "metadata": {},
   "outputs": [
    {
     "name": "stdout",
     "output_type": "stream",
     "text": [
      "[[ 1  2  3  4]\n",
      " [ 5  6  7  8]\n",
      " [ 9 10 11 12]\n",
      " [13 14 15 16]]\n",
      "[[ 1  5  9 13]\n",
      " [ 2  6 10 14]\n",
      " [ 3  7 11 15]\n",
      " [ 4  8 12 16]]\n",
      "[[0 0]\n",
      " [0 0]\n",
      " [0 0]\n",
      " [0 0]\n",
      " [0 0]\n",
      " [0 0]\n",
      " [0 0]\n",
      " [0 0]\n",
      " [0 0]]\n"
     ]
    }
   ],
   "source": [
    "# Question 4\n",
    "\n",
    "# - Create an array of numbers from 1 to 16 and reshape it into a 4x4 array.\n",
    "arr = numpy.arange(1, 17).reshape(4, 4)\n",
    "print(arr)\n",
    "\n",
    "# - Transpose the previous array (swap rows and columns).\n",
    "print(arr.T)\n",
    "\n",
    "# - From a 3D array with shape (2, 3, 3), flatten it into a 2D array.\n",
    "arr = numpy.zeros((2, 3, 3), dtype=int)  # Forma correta: (2, 3, 3)\n",
    "flattened_arr_2d = arr.flatten().reshape(9, 2)\n",
    "print(flattened_arr_2d)"
   ]
  },
  {
   "cell_type": "code",
   "execution_count": 15,
   "metadata": {},
   "outputs": [
    {
     "name": "stdout",
     "output_type": "stream",
     "text": [
      "[[14 19 22]\n",
      " [30 34 25]\n",
      " [65 77 52]]\n",
      "[0 1 2]\n",
      "[[0 1 2]\n",
      " [3 4 5]\n",
      " [6 7 8]]\n",
      "[[ 0  1  4]\n",
      " [ 0  4 10]\n",
      " [ 0  7 16]]\n"
     ]
    }
   ],
   "source": [
    "# Question 5\n",
    "\n",
    "# - Create a (3, 3) size integer array and add 10 to each element of the array without using loops.\n",
    "arr = numpy.array([ [4, 9, 12], [20, 24, 15], [55, 67, 42]])\n",
    "arr += 10\n",
    "print(arr)\n",
    "\n",
    "# - Multiply a 1D array of size 3 by a 2D array of size (3, 3).\n",
    "arr_1d = numpy.arange(3)\n",
    "arr_2d = numpy.arange(9).reshape(3, 3)\n",
    "arr_mul = arr_1d * arr_2d\n",
    "print(arr_mul)"
   ]
  }
 ],
 "metadata": {
  "kernelspec": {
   "display_name": "venv",
   "language": "python",
   "name": "python3"
  },
  "language_info": {
   "codemirror_mode": {
    "name": "ipython",
    "version": 3
   },
   "file_extension": ".py",
   "mimetype": "text/x-python",
   "name": "python",
   "nbconvert_exporter": "python",
   "pygments_lexer": "ipython3",
   "version": "3.12.3"
  }
 },
 "nbformat": 4,
 "nbformat_minor": 2
}
