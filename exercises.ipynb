{
 "cells": [
  {
   "cell_type": "markdown",
   "metadata": {},
   "source": [
    "# NumPy Exercises\n",
    "\n",
    "**1. Array Creation**\n",
    "- Create an array of zeros with size 5.\n",
    "- Create an array of integers from 10 to 20.\n",
    "- Create an array of random integers between 0 and 100 with size (3, 3).\n",
    "\n",
    "**2. Indexing and Slicing**\n",
    "- Given the array `arr = np.array([1, 2, 3, 4, 5])`, access the third element.\n",
    "- Create a 2D array of shape (4, 4) and access the entire second row.\n",
    "- Given an array `arr = np.arange(25).reshape(5, 5)`, extract the subarray containing the first two rows and the first three columns.\n",
    "\n",
    "**3. Mathematical Operations**\n",
    "- Create two arrays of size 5 and perform element-wise addition and multiplication between them.\n",
    "- Multiply all elements of an array by 10.\n",
    "- Create an array of integers and calculate the mean, sum, and maximum value.\n",
    "\n",
    "**4. Reshaping**\n",
    "- Create an array of numbers from 1 to 16 and reshape it into a 4x4 array.\n",
    "- Transpose the previous array (swap rows and columns).\n",
    "- From a 3D array with shape (2, 3, 3), flatten it into a 2D array.\n",
    "\n",
    "**5. Broadcasting**\n",
    "- Create a (3, 3) size integer array and add 10 to each element of the array without using loops.\n",
    "- Multiply a 1D array of size 3 by a 2D array of size (3, 3).\n",
    "\n",
    "**6. Masks and Conditions**\n",
    "- Create a random integer array of size (5, 5) and use a mask to replace all values less than 10 with 0.\n",
    "- Given the array `arr = np.array([10, 5, 8, 12, 6, 2])`, create a mask to select only the values greater than 6.\n",
    "\n",
    "**7. Concatenation and Division**\n",
    "- Create two arrays of shape (2, 3). Concatenate them along axis 0 (rows) and axis 1 (columns).\n",
    "- Divide an array of 10 elements into 2 arrays of equal size.\n",
    "\n",
    "**8. NumPy Specific Functions**\n",
    "- Create an array of integers from 0 to 9 and calculate the sine of each number.\n",
    "- Create an array of values from 1 to 100 and find the indices of the values that are divisible by 5.\n"
   ]
  },
  {
   "cell_type": "code",
   "execution_count": 1,
   "metadata": {},
   "outputs": [
    {
     "name": "stdout",
     "output_type": "stream",
     "text": [
      "[0 0 0 0 0]\n",
      "[10 11 12 13 14 15 16 17 18 19 20]\n",
      "[[35  7 24]\n",
      " [89 21 20]\n",
      " [29 64 21]]\n"
     ]
    }
   ],
   "source": [
    "# Question 1\n",
    "import numpy\n",
    "\n",
    "# - Create an array of zeros with size 5.\n",
    "arr = numpy.zeros(5, dtype=int) # By default the zeros function generate a matrix by float\n",
    "print(arr)\n",
    "\n",
    "# - Create an array of integers from 10 to 20.\n",
    "arr = numpy.arange(10, 21)\n",
    "print(arr)\n",
    "\n",
    "# - Create an array of random integers between 0 and 100 with size (3, 3).\n",
    "arr = numpy.random.randint(0, 101, size=(3, 3))\n",
    "print(arr)\n",
    "\n",
    "# Another way\n",
    "# import random\n",
    "\n",
    "# arr = numpy.zeros([3, 3], dtype=int)\n",
    "# row, col = arr.shape\n",
    "\n",
    "# for i in range(row):\n",
    "#     for j in range(col):\n",
    "#         r = random.randint(0, 100)\n",
    "#         arr[i][j] = r\n",
    "\n",
    "# print(arr)"
   ]
  },
  {
   "cell_type": "code",
   "execution_count": 2,
   "metadata": {},
   "outputs": [
    {
     "name": "stdout",
     "output_type": "stream",
     "text": [
      "3\n",
      "[4 5 6 7]\n",
      "[[0 1 2]\n",
      " [5 6 7]]\n"
     ]
    }
   ],
   "source": [
    "# Question 2\n",
    "\n",
    "# - Given the array `arr = np.array([1, 2, 3, 4, 5])`, access the third element.\n",
    "arr = numpy.array([1, 2, 3, 4, 5])\n",
    "print(arr[2])\n",
    "\n",
    "# - Create a 2D array of shape (4, 4) and access the entire second row.\n",
    "arr = numpy.arange(16).reshape(4, 4)\n",
    "print(arr[1])\n",
    "\n",
    "# - Given an array `arr = np.arange(25).reshape(5, 5)`, extract the subarray containing the first two rows and the first three columns.\n",
    "arr = numpy.arange(25).reshape(5, 5)\n",
    "sub_arr = arr[:2, :3]\n",
    "print(sub_arr)"
   ]
  },
  {
   "cell_type": "code",
   "execution_count": 3,
   "metadata": {},
   "outputs": [
    {
     "name": "stdout",
     "output_type": "stream",
     "text": [
      "The addition equal: [0 2 4 6 8]\n",
      "The multiplication equal: [ 0  1  4  9 16]\n",
      "[[10 20 30]\n",
      " [90 60 20]]\n",
      "4.0\n",
      "36\n",
      "8\n"
     ]
    }
   ],
   "source": [
    "# Question 3\n",
    "\n",
    "# - Create two arrays of size 5 and perform element-wise addition and multiplication between them.\n",
    "arr_1 = numpy.arange(5)\n",
    "arr_2 = numpy.arange(5)\n",
    "print(f\"The addition equal: {arr_1 + arr_2}\")\n",
    "print(f\"The multiplication equal: {arr_1 * arr_2}\")\n",
    "\n",
    "# - Multiply all elements of an array by 10.\n",
    "arr = numpy.array([[1, 2, 3], [9, 6, 2]])\n",
    "print(arr * 10)\n",
    "\n",
    "# - Create an array of integers and calculate the mean, sum, and maximum value.\n",
    "arr = numpy.arange(9)\n",
    "print(numpy.mean(arr))\n",
    "print(arr.sum())\n",
    "print(arr.max())"
   ]
  },
  {
   "cell_type": "code",
   "execution_count": 4,
   "metadata": {},
   "outputs": [
    {
     "name": "stdout",
     "output_type": "stream",
     "text": [
      "[[ 1  2  3  4]\n",
      " [ 5  6  7  8]\n",
      " [ 9 10 11 12]\n",
      " [13 14 15 16]]\n",
      "[[ 1  5  9 13]\n",
      " [ 2  6 10 14]\n",
      " [ 3  7 11 15]\n",
      " [ 4  8 12 16]]\n",
      "[[0 0]\n",
      " [0 0]\n",
      " [0 0]\n",
      " [0 0]\n",
      " [0 0]\n",
      " [0 0]\n",
      " [0 0]\n",
      " [0 0]\n",
      " [0 0]]\n"
     ]
    }
   ],
   "source": [
    "# Question 4\n",
    "\n",
    "# - Create an array of numbers from 1 to 16 and reshape it into a 4x4 array.\n",
    "arr = numpy.arange(1, 17).reshape(4, 4)\n",
    "print(arr)\n",
    "\n",
    "# - Transpose the previous array (swap rows and columns).\n",
    "print(arr.T)\n",
    "\n",
    "# - From a 3D array with shape (2, 3, 3), flatten it into a 2D array.\n",
    "arr = numpy.zeros((2, 3, 3), dtype=int)  # Forma correta: (2, 3, 3)\n",
    "flattened_arr_2d = arr.flatten().reshape(9, 2)\n",
    "print(flattened_arr_2d)"
   ]
  },
  {
   "cell_type": "code",
   "execution_count": 5,
   "metadata": {},
   "outputs": [
    {
     "name": "stdout",
     "output_type": "stream",
     "text": [
      "[[14 19 22]\n",
      " [30 34 25]\n",
      " [65 77 52]]\n",
      "[[ 0  1  4]\n",
      " [ 0  4 10]\n",
      " [ 0  7 16]]\n"
     ]
    }
   ],
   "source": [
    "# Question 5\n",
    "\n",
    "# - Create a (3, 3) size integer array and add 10 to each element of the array without using loops.\n",
    "arr = numpy.array([ [4, 9, 12], [20, 24, 15], [55, 67, 42]])\n",
    "arr += 10\n",
    "print(arr)\n",
    "\n",
    "# - Multiply a 1D array of size 3 by a 2D array of size (3, 3).\n",
    "arr_1d = numpy.arange(3)\n",
    "arr_2d = numpy.arange(9).reshape(3, 3)\n",
    "arr_mul = arr_1d * arr_2d\n",
    "print(arr_mul)"
   ]
  },
  {
   "cell_type": "code",
   "execution_count": 6,
   "metadata": {},
   "outputs": [
    {
     "name": "stdout",
     "output_type": "stream",
     "text": [
      "[[ 9  8 10  8 14]\n",
      " [ 5  6  9 14 13]\n",
      " [11 11  7  2  7]\n",
      " [ 7  8  2  2 11]\n",
      " [ 0 10  9  7 12]]\n",
      "[[ 0  0 10  0 14]\n",
      " [ 0  0  0 14 13]\n",
      " [11 11  0  0  0]\n",
      " [ 0  0  0  0 11]\n",
      " [ 0 10  0  0 12]]\n",
      "[10  8 12]\n"
     ]
    }
   ],
   "source": [
    "# Question 6\n",
    "\n",
    "# - Create a random integer array of size (5, 5) and use a mask to replace all values less than 10 with 0.\n",
    "arr_rd = numpy.random.random((5, 5)) * 15\n",
    "\n",
    "arr_rd = arr_rd.astype(int) # Convert to int\n",
    "\n",
    "print(arr_rd)\n",
    "arr_rd[arr_rd < 10] = 0\n",
    "print(arr_rd)\n",
    "\n",
    "# - Given the array `arr = np.array([10, 5, 8, 12, 6, 2])`, create a mask to select only the values greater than 6.\n",
    "arr = numpy.array([10, 5, 8, 12, 6, 2])\n",
    "sub_arr = arr[arr > 6]\n",
    "print(sub_arr)\n"
   ]
  },
  {
   "cell_type": "code",
   "execution_count": 7,
   "metadata": {},
   "outputs": [
    {
     "name": "stdout",
     "output_type": "stream",
     "text": [
      "[[ 1  2  3]\n",
      " [10 20 30]\n",
      " [ 2  4  6]\n",
      " [20 40 60]]\n",
      "[[ 1  2  3  2  4  6]\n",
      " [10 20 30 20 40 60]]\n",
      "[0 1 2 3 4]\n",
      "[5 6 7 8 9]\n"
     ]
    }
   ],
   "source": [
    "# Question 7\n",
    "\n",
    "# - Create two arrays of shape (2, 3). Concatenate them along axis 0 (rows) and axis 1 (columns).\n",
    "arr_1 = numpy.array([[1, 2, 3], [10, 20, 30]])\n",
    "arr_2 = arr_1 * 2\n",
    "\n",
    "concat_axis_0 = numpy.concatenate((arr_1, arr_2), axis=0)\n",
    "print(concat_axis_0)\n",
    "\n",
    "concat_axis_1 = numpy.concatenate((arr_1, arr_2), axis=1)\n",
    "print(concat_axis_1)\n",
    "\n",
    "# - Divide an array of 10 elements into 2 arrays of equal size.\n",
    "arr = numpy.arange(10)\n",
    "\n",
    "arr_split = numpy.split(arr, 2) # The split method return a list of arrays\n",
    "\n",
    "for sub_arr in arr_split:\n",
    "    print(sub_arr)\n",
    "\n",
    "# Use the numpy.array_split() for irregular sizes"
   ]
  },
  {
   "cell_type": "code",
   "execution_count": 8,
   "metadata": {},
   "outputs": [
    {
     "name": "stdout",
     "output_type": "stream",
     "text": [
      "[0 1 2 3 4 5 6 7 8 9]\n",
      "[ 0.          0.84147098  0.90929743  0.14112001 -0.7568025  -0.95892427\n",
      " -0.2794155   0.6569866   0.98935825  0.41211849]\n",
      "[  1   2   3   4   5   6   7   8   9  10  11  12  13  14  15  16  17  18\n",
      "  19  20  21  22  23  24  25  26  27  28  29  30  31  32  33  34  35  36\n",
      "  37  38  39  40  41  42  43  44  45  46  47  48  49  50  51  52  53  54\n",
      "  55  56  57  58  59  60  61  62  63  64  65  66  67  68  69  70  71  72\n",
      "  73  74  75  76  77  78  79  80  81  82  83  84  85  86  87  88  89  90\n",
      "  91  92  93  94  95  96  97  98  99 100]\n",
      "[ 4  9 14 19 24 29 34 39 44 49 54 59 64 69 74 79 84 89 94 99]\n"
     ]
    }
   ],
   "source": [
    "# Question 8\n",
    "\n",
    "# - Create an array of integers from 0 to 9 and calculate the sine of each number.\n",
    "arr = numpy.arange(10)\n",
    "sine_arr = numpy.sin(arr)\n",
    "print(arr)\n",
    "print(sine_arr)\n",
    "\n",
    "# - Create an array of values from 1 to 100 and find the indices of the values that are divisible by 5.\n",
    "arr = numpy.arange(1, 101)\n",
    "divisible_by_5 = numpy.where(arr % 5 == 0)[0]\n",
    "print(arr)\n",
    "print(divisible_by_5)"
   ]
  }
 ],
 "metadata": {
  "kernelspec": {
   "display_name": "venv",
   "language": "python",
   "name": "python3"
  },
  "language_info": {
   "codemirror_mode": {
    "name": "ipython",
    "version": 3
   },
   "file_extension": ".py",
   "mimetype": "text/x-python",
   "name": "python",
   "nbconvert_exporter": "python",
   "pygments_lexer": "ipython3",
   "version": "3.12.3"
  }
 },
 "nbformat": 4,
 "nbformat_minor": 2
}
